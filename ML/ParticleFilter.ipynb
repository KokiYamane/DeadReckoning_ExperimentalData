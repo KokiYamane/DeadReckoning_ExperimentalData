{
 "nbformat": 4,
 "nbformat_minor": 2,
 "metadata": {
  "language_info": {
   "name": "python",
   "codemirror_mode": {
    "name": "ipython",
    "version": 3
   }
  },
  "orig_nbformat": 2,
  "file_extension": ".py",
  "mimetype": "text/x-python",
  "name": "python",
  "npconvert_exporter": "python",
  "pygments_lexer": "ipython3",
  "version": 3
 },
 "cells": [
  {
   "cell_type": "code",
   "execution_count": 29,
   "metadata": {},
   "outputs": [
    {
     "name": "stdout",
     "output_type": "stream",
     "text": "numpy version: 1.17.3\ntensorflow version: 1.14.0\nGPU: \n"
    }
   ],
   "source": [
    "# インポート\n",
    "import numpy as np\n",
    "import numpy.random as rd\n",
    "# import pandas as pd\n",
    "\n",
    "import matplotlib\n",
    "from matplotlib import font_manager\n",
    "import matplotlib.pyplot as plt\n",
    "# import seaborn as sns\n",
    "\n",
    "print('numpy version:', np.__version__)\n",
    "print('tensorflow version:', tf.__version__)\n",
    "print('GPU:', tf.test.gpu_device_name())"
   ]
  },
  {
   "cell_type": "code",
   "execution_count": 30,
   "metadata": {},
   "outputs": [],
   "source": [
    "def loadData(filename):\n",
    "    data = np.loadtxt(filename, delimiter=',', skiprows=1,\n",
    "                      unpack=False, dtype=str)\n",
    "    speed = []\n",
    "    xyzwave = []\n",
    "    for row in data:\n",
    "        speed.append(row[1].astype('f8'))\n",
    "        xyzwave.append(row[2: 2 + 2 * 50].astype('f8'))\n",
    "    speed = np.array(speed)\n",
    "    x = np.array(xyzwave)\n",
    "    t = speed[:, np.newaxis]\n",
    "    return x, t"
   ]
  },
  {
   "cell_type": "code",
   "execution_count": 31,
   "metadata": {},
   "outputs": [],
   "source": [
    "class ParticleFilter(object):\n",
    "    def __init__(self, y, n_particle, sigma_2, alpha_2):\n",
    "        self.y = y\n",
    "        self.n_particle = n_particle\n",
    "        self.sigma_2 = sigma_2\n",
    "        self.alpha_2 = alpha_2\n",
    "        self.log_likelihood = -np.inf\n",
    "\n",
    "    def norm_likelihood(self, y, x, s2):\n",
    "        return (np.sqrt(2*np.pi*s2))**(-1) * np.exp(-(y-x)**2/(2*s2))\n",
    "\n",
    "    def F_inv(self, w_cumsum, idx, u):\n",
    "            if np.any(w_cumsum < u) == False:\n",
    "                return 0\n",
    "            k = np.max(idx[w_cumsum < u])\n",
    "            return k+1\n",
    "\n",
    "    def resampling(self, weights):\n",
    "        w_cumsum = np.cumsum(weights)\n",
    "        idx = np.asanyarray(range(self.n_particle))\n",
    "        k_list = np.zeros(self.n_particle, dtype=np.int32) # サンプリングしたkのリスト格納場所\n",
    "\n",
    "        # 一様分布から重みに応じてリサンプリングする添え字を取得\n",
    "        for i, u in enumerate(rd.uniform(0, 1, size=self.n_particle)):\n",
    "            k = self.F_inv(w_cumsum, idx, u)\n",
    "            k_list[i] = k\n",
    "        return k_list\n",
    "\n",
    "    def resampling2(self, weights):\n",
    "        \"\"\"\n",
    "        計算量の少ない層化サンプリング\n",
    "        \"\"\"\n",
    "        idx = np.asanyarray(range(self.n_particle))\n",
    "        u0 = rd.uniform(0, 1/self.n_particle)\n",
    "        u = [1/self.n_particle*i + u0 for i in range(self.n_particle)]\n",
    "        w_cumsum = np.cumsum(weights)\n",
    "        k = np.asanyarray([self.F_inv(w_cumsum, idx, val) for val in u])\n",
    "        return k\n",
    "\n",
    "    def simulate(self, seed=71):\n",
    "        rd.seed(seed)\n",
    "\n",
    "        # 時系列データ数\n",
    "        T = len(self.y)\n",
    "\n",
    "        # 潜在変数\n",
    "        x = np.zeros((T+1, self.n_particle))\n",
    "        x_resampled = np.zeros((T+1, self.n_particle))\n",
    "\n",
    "        # 潜在変数の初期値\n",
    "        initial_x = rd.normal(0, 1, size=self.n_particle)   #--- (1)\n",
    "        x_resampled[0] = initial_x\n",
    "        x[0] = initial_x\n",
    "\n",
    "        # 重み\n",
    "        w        = np.zeros((T, self.n_particle))\n",
    "        w_normed = np.zeros((T, self.n_particle))\n",
    "\n",
    "        l = np.zeros(T) # 時刻毎の尤度\n",
    "\n",
    "        for t in range(T):\n",
    "            print(\"\\r calculating... t={}\".format(t), end=\"\")\n",
    "            for i in range(self.n_particle):\n",
    "                # 1階差分トレンドを適用\n",
    "                v = rd.normal(0, np.sqrt(self.alpha_2*self.sigma_2)) # System Noise　#--- (2)\n",
    "                x[t+1, i] = x_resampled[t, i] + v # システムノイズの付加\n",
    "                w[t, i] = self.norm_likelihood(self.y[t], x[t+1, i], self.sigma_2) # y[t]に対する各粒子の尤度\n",
    "            w_normed[t] = w[t]/np.sum(w[t]) # 規格化\n",
    "            l[t] = np.log(np.sum(w[t])) # 各時刻対数尤度\n",
    "\n",
    "            # Resampling\n",
    "            #k = self.resampling(w_normed[t]) # リサンプリングで取得した粒子の添字\n",
    "            k = self.resampling2(w_normed[t]) # リサンプリングで取得した粒子の添字（層化サンプリング）\n",
    "            x_resampled[t+1] = x[t+1, k]\n",
    "\n",
    "        # 全体の対数尤度\n",
    "        self.log_likelihood = np.sum(l) - T*np.log(n_particle)\n",
    "\n",
    "        self.x = x\n",
    "        self.x_resampled = x_resampled\n",
    "        self.w = w\n",
    "        self.w_normed = w_normed\n",
    "        self.l = l\n",
    "\n",
    "    def get_filtered_value(self):\n",
    "        \"\"\"\n",
    "        尤度の重みで加重平均した値でフィルタリングされ値を算出\n",
    "        \"\"\"\n",
    "        return np.diag(np.dot(self.w_normed, self.x[1:].T))\n",
    "\n",
    "    def draw_graph(self):\n",
    "        # グラフ描画\n",
    "        T = len(self.y)\n",
    "\n",
    "        plt.figure(figsize=(16,8))\n",
    "        plt.plot(range(T), self.y)\n",
    "        plt.plot(self.get_filtered_value(), \"g\")\n",
    "\n",
    "        for t in range(T):\n",
    "            plt.scatter(np.ones(self.n_particle)*t, self.x[t], color=\"r\", s=2, alpha=0.1)\n",
    "\n",
    "        plt.title(\"sigma^2={0}, alpha^2={1}, log likelihood={2:.3f}\".format(self.sigma_2, \n",
    "                                                                                 self.alpha_2, \n",
    "                                                                                 self.log_likelihood))\n",
    "        plt.show()"
   ]
  },
  {
   "cell_type": "code",
   "execution_count": 32,
   "metadata": {},
   "outputs": [],
   "source": [
    "# データ読み込み\n",
    "x, t = loadData('data/ML_angle/1010.csv')"
   ]
  },
  {
   "cell_type": "code",
   "execution_count": 33,
   "metadata": {},
   "outputs": [],
   "source": [
    "# ハイパーパラメーター\n",
    "a = -2\n",
    "b = -1\n",
    "\n",
    "n_particle = 10**3 * 5\n",
    "sigma_2 = 2**a\n",
    "alpha_2 = 10**b\n",
    "\n",
    "pf = ParticleFilter(x, n_particle, sigma_2, alpha_2)"
   ]
  },
  {
   "cell_type": "code",
   "execution_count": 34,
   "metadata": {},
   "outputs": [
    {
     "name": "stdout",
     "output_type": "stream",
     "text": "calculating... t=0"
    },
    {
     "ename": "ValueError",
     "evalue": "setting an array element with a sequence.",
     "output_type": "error",
     "traceback": [
      "\u001b[0;31m---------------------------------------------------------------------------\u001b[0m",
      "\u001b[0;31mValueError\u001b[0m                                Traceback (most recent call last)",
      "\u001b[0;32m<ipython-input-34-2d897853c2be>\u001b[0m in \u001b[0;36m<module>\u001b[0;34m\u001b[0m\n\u001b[0;32m----> 1\u001b[0;31m \u001b[0mpf\u001b[0m\u001b[0;34m.\u001b[0m\u001b[0msimulate\u001b[0m\u001b[0;34m(\u001b[0m\u001b[0;34m)\u001b[0m\u001b[0;34m\u001b[0m\u001b[0;34m\u001b[0m\u001b[0m\n\u001b[0m",
      "\u001b[0;32m<ipython-input-31-eaac97f62396>\u001b[0m in \u001b[0;36msimulate\u001b[0;34m(self, seed)\u001b[0m\n\u001b[1;32m     65\u001b[0m                 \u001b[0mv\u001b[0m \u001b[0;34m=\u001b[0m \u001b[0mrd\u001b[0m\u001b[0;34m.\u001b[0m\u001b[0mnormal\u001b[0m\u001b[0;34m(\u001b[0m\u001b[0;36m0\u001b[0m\u001b[0;34m,\u001b[0m \u001b[0mnp\u001b[0m\u001b[0;34m.\u001b[0m\u001b[0msqrt\u001b[0m\u001b[0;34m(\u001b[0m\u001b[0mself\u001b[0m\u001b[0;34m.\u001b[0m\u001b[0malpha_2\u001b[0m\u001b[0;34m*\u001b[0m\u001b[0mself\u001b[0m\u001b[0;34m.\u001b[0m\u001b[0msigma_2\u001b[0m\u001b[0;34m)\u001b[0m\u001b[0;34m)\u001b[0m \u001b[0;31m# System Noise　#--- (2)\u001b[0m\u001b[0;34m\u001b[0m\u001b[0;34m\u001b[0m\u001b[0m\n\u001b[1;32m     66\u001b[0m                 \u001b[0mx\u001b[0m\u001b[0;34m[\u001b[0m\u001b[0mt\u001b[0m\u001b[0;34m+\u001b[0m\u001b[0;36m1\u001b[0m\u001b[0;34m,\u001b[0m \u001b[0mi\u001b[0m\u001b[0;34m]\u001b[0m \u001b[0;34m=\u001b[0m \u001b[0mx_resampled\u001b[0m\u001b[0;34m[\u001b[0m\u001b[0mt\u001b[0m\u001b[0;34m,\u001b[0m \u001b[0mi\u001b[0m\u001b[0;34m]\u001b[0m \u001b[0;34m+\u001b[0m \u001b[0mv\u001b[0m \u001b[0;31m# システムノイズの付加\u001b[0m\u001b[0;34m\u001b[0m\u001b[0;34m\u001b[0m\u001b[0m\n\u001b[0;32m---> 67\u001b[0;31m                 \u001b[0mw\u001b[0m\u001b[0;34m[\u001b[0m\u001b[0mt\u001b[0m\u001b[0;34m,\u001b[0m \u001b[0mi\u001b[0m\u001b[0;34m]\u001b[0m \u001b[0;34m=\u001b[0m \u001b[0mself\u001b[0m\u001b[0;34m.\u001b[0m\u001b[0mnorm_likelihood\u001b[0m\u001b[0;34m(\u001b[0m\u001b[0mself\u001b[0m\u001b[0;34m.\u001b[0m\u001b[0my\u001b[0m\u001b[0;34m[\u001b[0m\u001b[0mt\u001b[0m\u001b[0;34m]\u001b[0m\u001b[0;34m,\u001b[0m \u001b[0mx\u001b[0m\u001b[0;34m[\u001b[0m\u001b[0mt\u001b[0m\u001b[0;34m+\u001b[0m\u001b[0;36m1\u001b[0m\u001b[0;34m,\u001b[0m \u001b[0mi\u001b[0m\u001b[0;34m]\u001b[0m\u001b[0;34m,\u001b[0m \u001b[0mself\u001b[0m\u001b[0;34m.\u001b[0m\u001b[0msigma_2\u001b[0m\u001b[0;34m)\u001b[0m \u001b[0;31m# y[t]に対する各粒子の尤度\u001b[0m\u001b[0;34m\u001b[0m\u001b[0;34m\u001b[0m\u001b[0m\n\u001b[0m\u001b[1;32m     68\u001b[0m             \u001b[0mw_normed\u001b[0m\u001b[0;34m[\u001b[0m\u001b[0mt\u001b[0m\u001b[0;34m]\u001b[0m \u001b[0;34m=\u001b[0m \u001b[0mw\u001b[0m\u001b[0;34m[\u001b[0m\u001b[0mt\u001b[0m\u001b[0;34m]\u001b[0m\u001b[0;34m/\u001b[0m\u001b[0mnp\u001b[0m\u001b[0;34m.\u001b[0m\u001b[0msum\u001b[0m\u001b[0;34m(\u001b[0m\u001b[0mw\u001b[0m\u001b[0;34m[\u001b[0m\u001b[0mt\u001b[0m\u001b[0;34m]\u001b[0m\u001b[0;34m)\u001b[0m \u001b[0;31m# 規格化\u001b[0m\u001b[0;34m\u001b[0m\u001b[0;34m\u001b[0m\u001b[0m\n\u001b[1;32m     69\u001b[0m             \u001b[0ml\u001b[0m\u001b[0;34m[\u001b[0m\u001b[0mt\u001b[0m\u001b[0;34m]\u001b[0m \u001b[0;34m=\u001b[0m \u001b[0mnp\u001b[0m\u001b[0;34m.\u001b[0m\u001b[0mlog\u001b[0m\u001b[0;34m(\u001b[0m\u001b[0mnp\u001b[0m\u001b[0;34m.\u001b[0m\u001b[0msum\u001b[0m\u001b[0;34m(\u001b[0m\u001b[0mw\u001b[0m\u001b[0;34m[\u001b[0m\u001b[0mt\u001b[0m\u001b[0;34m]\u001b[0m\u001b[0;34m)\u001b[0m\u001b[0;34m)\u001b[0m \u001b[0;31m# 各時刻対数尤度\u001b[0m\u001b[0;34m\u001b[0m\u001b[0;34m\u001b[0m\u001b[0m\n",
      "\u001b[0;31mValueError\u001b[0m: setting an array element with a sequence."
     ]
    }
   ],
   "source": [
    "pf.simulate()"
   ]
  },
  {
   "cell_type": "code",
   "execution_count": 0,
   "metadata": {},
   "outputs": [],
   "source": [
    "pf.draw_graph()"
   ]
  }
 ]
}